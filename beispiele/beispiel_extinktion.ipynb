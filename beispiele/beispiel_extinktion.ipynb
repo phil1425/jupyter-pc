{
 "cells": [
  {
   "cell_type": "code",
   "execution_count": 1,
   "metadata": {},
   "outputs": [],
   "source": [
    "# Dieses Beispiel zeigt wie man den Molaren Extinktionskoeffizienten bestimmt.\n",
    "# Das muss man sowieso für jedes zweite Protokoll machen.\n",
    "# Dazu Tregen wir den Logarithmus der Intensität gegen die Konzentration auf.\n",
    "# Die Steigung der Ausgleichsgeraden geteilt durch die Länge der Küvette ist dann\n",
    "# Der Molare Extinktionskoeffizient\n",
    "\n",
    "# Zuerst importieren wir ein paar Bibliotheken\n",
    "# Allgemein: import <biblothek> as <abkürzung>\n",
    "# Importiert alle funktionen der bibliothek, später aufrufbar mit <abkürzung.funktion>\n",
    "# oder from <bibliothek> import <funktion> \n",
    "# Importiert nur eine einzelne funktion\n",
    "\n",
    "import matplotlib.pyplot as plt # zum erstellen der Grafik\n",
    "import scipy.odr as sci\n",
    "from uncertainties import ufloat\n",
    "from uncertainties.umath import *j\n",
    "\n",
    "# uncertainties ist ein package, dass die fehlerrechung übernimmt.\n",
    "# Der verwendete Datentyp heißt ufloat und hat einen wert und eine standardabweichung.\n",
    "# wenn man irgendeine rechenoperation damit macht, wird der fehler automatisch ausgerechnet\n",
    "# manuelle fehlerfortpflanzung kann man sich also sparen\n",
    "\n",
    "# wenn man nur auf den wert zugreifen will geht das mit <variable>.n\n",
    "# wenn man nur auf die standardabweichung zugreifen will geht das mit <variable>.s\n",
    "\n",
    "# latex(<variable>) gibt den wert zusammen mit der standardabweichung in hübschem\n",
    "# LaTeX-format aus\n"
   ]
  },
  {
   "cell_type": "code",
   "execution_count": 2,
   "metadata": {},
   "outputs": [],
   "source": [
    "# Jetzt kommen die Messwerte dazu\n",
    "# Datenreihen bekommen hier immer den prefix data_\n",
    "sigma_v = 1e-4\n",
    "data_v_wasser = [ ufloat(x, sigma_v) for x in[]] # werte für das zugegebene Volumen an wasser\n",
    "data_v_farb = [ ufloat(x, sigma_v) for x in[]] # Werte für die zugegebene Menge an Farbstoff-Lösung (0.01-Molar)\n",
    "data_I = [] # Werte für die Intensität (hat keine standardabweichung)\n",
    "c0_farbe = 1e-2"
   ]
  },
  {
   "cell_type": "code",
   "execution_count": null,
   "metadata": {},
   "outputs": [],
   "source": [
    "# Zuerst rechnen wir die konzentration der jeweiligen lösungen aus. \n",
    "# Die formel dafür ist c(verdünnt) = c_0*v(farbe)/v(gesamt)\n",
    "data_c = [c0_farbe*v_wasser/(v_wasser+v_farbe) for v_wasser, v_farb in zip(data_wasser, data_farb)]\n",
    "\n",
    "# Jetzt rechnen wir log(I/I0) aus\n",
    "i_0 = data_I[0] #Intensitaät ohne farbstoff\n",
    "data_log_I = [log(i/i_0) for i in data_I]\n",
    "\n",
    "#Jetzt können wir die ausgleichsgerade bestimmen\n",
    "beta, sd_beta = fit(data_c, data_log_I, lin_func)\n",
    "\n",
    "# Und die grafik generieren\n",
    "\n",
    "plt.figure()\n",
    "plt.errorbar(data_c.n, data_log_I, xerr=data_c.s) # Werte\n",
    "plt.plot(data_c.n, [lin_func(beta, x) for x in data_c.n]) # Ausgleichsgerade\n",
    "plt.show()\n"
   ]
  }
 ],
 "metadata": {
  "kernelspec": {
   "display_name": "Python 3",
   "language": "python",
   "name": "python3"
  },
  "language_info": {
   "codemirror_mode": {
    "name": "ipython",
    "version": 3
   },
   "file_extension": ".py",
   "mimetype": "text/x-python",
   "name": "python",
   "nbconvert_exporter": "python",
   "pygments_lexer": "ipython3",
   "version": "3.6.1"
  }
 },
 "nbformat": 4,
 "nbformat_minor": 2
}
