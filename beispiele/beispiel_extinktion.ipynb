{
 "cells": [
  {
   "cell_type": "markdown",
   "metadata": {},
   "source": [
    "# Beispiel 1: Berechnung des Molaren Extinktionskoeffizienten\n",
    "Dieses Beispiel zeigt wie man den Molaren Extinktionskoeffizienten bestimmt, das muss man sowieso für jedes zweite Protokoll machen.\n",
    "Dazu Tragen wir den Logarithmus der Intensität gegen die Konzentration auf. Die Steigung der Ausgleichsgeraden geteilt durch die Länge der Küvette ist dann der Molare Extinktionskoeffizient"
   ]
  },
  {
   "cell_type": "code",
   "execution_count": 1,
   "metadata": {},
   "outputs": [
    {
     "ename": "AttributeError",
     "evalue": "module 'jupyterpc' has no attribute 'fit'",
     "output_type": "error",
     "traceback": [
      "\u001b[0;31m-------------------------------------------------------------------\u001b[0m",
      "\u001b[0;31mAttributeError\u001b[0m                    Traceback (most recent call last)",
      "\u001b[0;32m<ipython-input-1-6c6e3cfc47f4>\u001b[0m in \u001b[0;36m<module>\u001b[0;34m()\u001b[0m\n\u001b[1;32m     10\u001b[0m \u001b[0;32mfrom\u001b[0m \u001b[0muncertainties\u001b[0m\u001b[0;34m.\u001b[0m\u001b[0mumath\u001b[0m \u001b[0;32mimport\u001b[0m \u001b[0;34m*\u001b[0m\u001b[0;34m\u001b[0m\u001b[0m\n\u001b[1;32m     11\u001b[0m \u001b[0;32mimport\u001b[0m \u001b[0mjupyterpc\u001b[0m \u001b[0;32mas\u001b[0m \u001b[0mjp\u001b[0m\u001b[0;34m\u001b[0m\u001b[0m\n\u001b[0;32m---> 12\u001b[0;31m \u001b[0mjp\u001b[0m\u001b[0;34m.\u001b[0m\u001b[0mfit\u001b[0m\u001b[0;34m\u001b[0m\u001b[0m\n\u001b[0m\u001b[1;32m     13\u001b[0m \u001b[0;31m# uncertainties ist ein package, dass die Fehlerrechung übernimmt.\u001b[0m\u001b[0;34m\u001b[0m\u001b[0;34m\u001b[0m\u001b[0m\n\u001b[1;32m     14\u001b[0m \u001b[0;31m# Der verwendete Datentyp heißt ufloat und hat einen wert und eine standardabweichung.\u001b[0m\u001b[0;34m\u001b[0m\u001b[0;34m\u001b[0m\u001b[0m\n",
      "\u001b[0;31mAttributeError\u001b[0m: module 'jupyterpc' has no attribute 'fit'"
     ]
    }
   ],
   "source": [
    "# Zuerst importieren wir ein paar Bibliotheken\n",
    "# Allgemein: import <biblothek> as <abkürzung>\n",
    "# Importiert alle funktionen der bibliothek, später aufrufbar mit <abkürzung.funktion>\n",
    "# oder from <bibliothek> import <funktion> \n",
    "# Importiert nur eine einzelne funktion.\n",
    "# Dann kann man sie einfach mit <funktion> aufrufen. Kein Präfix mehr nötig\n",
    "\n",
    "import matplotlib.pyplot as plt # zum erstellen der Grafik\n",
    "from uncertainties import ufloat\n",
    "from uncertainties.umath import *\n",
    "import jupyterpc as jp\n",
    "jp.fit\n",
    "# uncertainties ist ein package, dass die Fehlerrechung übernimmt.\n",
    "# Der verwendete Datentyp heißt ufloat und hat einen wert und eine standardabweichung.\n",
    "# wenn man irgendeine rechenoperation damit macht, wird der fehler automatisch ausgerechnet\n",
    "# manuelle fehlerfortpflanzung kann man sich also sparen\n",
    "\n",
    "# wenn man nur auf den wert zugreifen will geht das mit <variable>.n\n",
    "# wenn man nur auf die standardabweichung zugreifen will geht das mit <variable>.s\n",
    "\n",
    "# latex(<variable>) gibt den wert zusammen mit der standardabweichung in hübschem\n",
    "# LaTeX-format aus"
   ]
  },
  {
   "cell_type": "code",
   "execution_count": null,
   "metadata": {},
   "outputs": [],
   "source": [
    "# Jetzt kommen die Messwerte dazu\n",
    "# Datenreihen bekommen hier immer den prefix data_\n",
    "sigma_v = 1e-4\n",
    "sigma_I = 1e-3\n",
    "data_v_wasser = [ ufloat(x, sigma_v) for x in [990.0, 980.0, 950.0, 900.0, 800.0, 500.0]] # werte für das zugegebene Volumen an wasser\n",
    "data_v_farb = [ ufloat(x, sigma_v) for x in [10.0, 20.0, 50.0, 100.0, 200.0, 500.0]] # Werte für die zugegebene Menge an Farbstoff-Lösung (0.01-Molar)\n",
    "data_I = [ ufloat(x, sigma_I) for x in [7.145, 6.955, 7.012, 6.708, 6.708, 5.616]] # Werte für die Extinktion\n",
    "c0_farbe = 1e-2"
   ]
  },
  {
   "cell_type": "markdown",
   "metadata": {},
   "source": [
    "Zuerst muss die Konzentration des Farbstoffes in der Küvette für jede gewählte Konzentration Berechnet werden.\n",
    "$$\n",
    "c_{Küvette} = c_0\\cdot\\frac{v_{Farbstoff}}{v_{Farbstoff}+v_{Wasser}}\n",
    "$$\n",
    "\n",
    "Die Extinktion berechnet sich aus der Intensität\n",
    "$$\n",
    "E = log\\left(\\frac{I_0}{I}\\right)\n",
    "$$\n",
    "\n",
    "Trägt man die Extinktion gegen die Farbstoffkonzentration auf, so enspricht die Steigung der \n",
    "Ausgleichsgeraden dem Molaren Extinkntionskoeffizienten.\n",
    "\n",
    "$$\n",
    "E = \\epsilon c d\\\\\n",
    "\\leftrightarrow \\frac{\\delta E}{\\delta c}\\frac{1}{d} = \\epsilon = \\frac{m}{d}\n",
    "$$"
   ]
  },
  {
   "cell_type": "code",
   "execution_count": null,
   "metadata": {},
   "outputs": [],
   "source": [
    "# Zuerst rechnen wir die konzentration der jeweiligen lösungen aus. \n",
    "data_c = [c0_farbe*v_wasser/(v_wasser+v_farbe) for v_wasser, v_farbe in zip(data_v_wasser, data_v_farb)]\n",
    "\n",
    "# Jetzt rechnen wir log(I/I0)=E aus\n",
    "I_0 = data_I[0] #Intensität ohne farbstoff\n",
    "data_E = [log(I/I_0) for I in data_I]\n",
    "\n",
    "# Funkton, nach der Gefittet werden soll.\n",
    "# In diesem fall f(x) = m*x+b\n",
    "\n",
    "#Jetzt können wir die ausgleichsgerade bestimmen\n",
    "# fit() gibt eine liste mit den koeffizienten der Gefitteten funktion\n",
    "# und eine liste der fehler der gefitteten funktion zurück\n",
    "# Also in diesem fall [m, b], [sigma_m, sigma_b]\n",
    "werte, fehler = fit(data_c, data_E, lin_func)\n",
    "\n",
    "# Und die grafik generieren\n",
    "\n",
    "plt.figure()\n",
    "plt.errorbar(data_c.n, data_log_I, xerr=data_c.s) # Werte\n",
    "plt.plot(data_c.n, [lin_func(werte, x) for x in data_c.n]) # Ausgleichsgerade\n",
    "plt.show()\n"
   ]
  },
  {
   "cell_type": "code",
   "execution_count": null,
   "metadata": {},
   "outputs": [],
   "source": [
    "x = ufloat(10, 5)\n",
    "y = ufloat(40, 3)\n",
    "print((x*y).format('L'))"
   ]
  },
  {
   "cell_type": "code",
   "execution_count": null,
   "metadata": {},
   "outputs": [],
   "source": []
  }
 ],
 "metadata": {
  "kernelspec": {
   "display_name": "Python 3",
   "language": "python",
   "name": "python3"
  },
  "language_info": {
   "codemirror_mode": {
    "name": "ipython",
    "version": 3
   },
   "file_extension": ".py",
   "mimetype": "text/x-python",
   "name": "python",
   "nbconvert_exporter": "python",
   "pygments_lexer": "ipython3",
   "version": "3.6.4"
  }
 },
 "nbformat": 4,
 "nbformat_minor": 2
}
