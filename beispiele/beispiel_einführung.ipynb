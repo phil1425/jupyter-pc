{
 "cells": [
  {
   "cell_type": "markdown",
   "metadata": {},
   "source": [
    "# Beispiel 0: Erste Schritte mit Jupyter\n",
    "In diesem Notebook werden kurz Jupyter und alle wichtigen Bibliotheken erklärt. \n",
    "\n",
    "Das Hier ist ein Jupyter-Notebook. Das ist eine Datei, in der man einzelen Stücke an Code (Zellen) nacheinander ausführen kann und darunter dann direkt den output sieht. Eine Zelle wird mit [SHIFT]+[ENTER] ausgeführt.\n",
    "Klicke die darunter Liegende Zelle an und und führe sie aus. Der output sollte unter der Zelle erscheinen.\n"
   ]
  },
  {
   "cell_type": "code",
   "execution_count": null,
   "metadata": {},
   "outputs": [],
   "source": [
    "x = 5+6\n",
    "print('Hello, World!', x)"
   ]
  },
  {
   "cell_type": "markdown",
   "metadata": {},
   "source": [
    "Wenn man etwas an der Zelle verändert, muss sie danach erneut ausgeführt werden, damit sich der Output aktualisiert. Ändere die Berechnung in Zeile 1 der oberen Zelle und führe erneut aus.\n",
    "Der Output sollte jetzt eine andere Zahl anzeigen"
   ]
  },
  {
   "cell_type": "code",
   "execution_count": 4,
   "metadata": {},
   "outputs": [
    {
     "name": "stdout",
     "output_type": "stream",
     "text": [
      "30+/-6\n"
     ]
    }
   ],
   "source": [
    "from uncertainties import ufloat\n",
    "a = ufloat(10, 5) # 10 +/- 5\n",
    "b = ufloat(20, 3) # 20 +/- 3\n",
    "print(a+b)"
   ]
  },
  {
   "cell_type": "code",
   "execution_count": null,
   "metadata": {},
   "outputs": [],
   "source": []
  }
 ],
 "metadata": {
  "kernelspec": {
   "display_name": "Python 3",
   "language": "python",
   "name": "python3"
  },
  "language_info": {
   "codemirror_mode": {
    "name": "ipython",
    "version": 3
   },
   "file_extension": ".py",
   "mimetype": "text/x-python",
   "name": "python",
   "nbconvert_exporter": "python",
   "pygments_lexer": "ipython3",
   "version": "3.6.4"
  }
 },
 "nbformat": 4,
 "nbformat_minor": 2
}
