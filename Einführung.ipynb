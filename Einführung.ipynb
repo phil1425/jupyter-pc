{
 "cells": [
  {
   "cell_type": "markdown",
   "metadata": {
    "slideshow": {
     "slide_type": "slide"
    }
   },
   "source": [
    "# Protokolle schreiben mit Python3 Jupyter\n"
   ]
  },
  {
   "cell_type": "markdown",
   "metadata": {
    "slideshow": {
     "slide_type": "subslide"
    }
   },
   "source": [
    "- Was ist Jupyter Notebook\n",
    "- Verwendete Programme/Bibliotheken\n",
    "- Workflow\n",
    "- Vor-/Nachteile"
   ]
  },
  {
   "cell_type": "markdown",
   "metadata": {
    "slideshow": {
     "slide_type": "slide"
    }
   },
   "source": [
    "# Was ist Jupyter Notebook ?\n",
    "\n",
    "- Mischung aus Python-Konsole und Texteditor\n",
    "- Gibt Grafiken direkt unter dem Code aus\n",
    "- Direktes ausführen des Codes mit [SHIFT]+[ENTER]\n",
    "- Code-Stücke können einzeln ausgeführt werden, Variablen bleiben erhalten."
   ]
  },
  {
   "cell_type": "markdown",
   "metadata": {
    "slideshow": {
     "slide_type": "slide"
    }
   },
   "source": [
    "# Verwendete Programme/Bibliotheken"
   ]
  },
  {
   "cell_type": "markdown",
   "metadata": {
    "slideshow": {
     "slide_type": "subslide"
    }
   },
   "source": [
    "- Jupyter Notebook mit Python\n",
    "    - Matplotlib\n",
    "    - Uncertainties\n",
    "    - Jupyterpc\n",
    "- Texteditor mit LaTeX\n"
   ]
  },
  {
   "cell_type": "markdown",
   "metadata": {
    "slideshow": {
     "slide_type": "slide"
    }
   },
   "source": [
    "# Workflow\n",
    "***\n",
    "**vorlage.tex** + **code.py** --Jinja2--> **output.tex** --LaTeX--> **PDF**\n",
    "***\n",
    "- **Vorlage**: TeX-Datei mit Platzhaltern  \n",
    "`Das Ergebnis ist \\VAR{ result } \\si{\\volt}\\\\`   \n",
    "- **Code**: Python-Datei mit Messwerten und Berechnung  \n",
    "`result = 5`   \n",
    "- **Output**: TeX-Datei mit eingesetzten Werten, kann von LaTeX normal verarbeitet werden  \n",
    "`Das Ergebnis ist 5 \\si{\\volt}\\\\`   "
   ]
  },
  {
   "cell_type": "markdown",
   "metadata": {
    "slideshow": {
     "slide_type": "slide"
    }
   },
   "source": [
    "## Nachteile\n",
    "- Installation\n",
    "- Lernkurve\n",
    "- Fehlermeldungen\n",
    "- Programmieren"
   ]
  },
  {
   "cell_type": "markdown",
   "metadata": {
    "slideshow": {
     "slide_type": "slide"
    }
   },
   "source": [
    "## Vorteile\n",
    "- Integration in LaTeX\n",
    "- Automatische Fehlerrechnung\n",
    "- Wiederverwendbarer Code\n",
    "- Schnell\n",
    "- Programmieren"
   ]
  },
  {
   "cell_type": "markdown",
   "metadata": {
    "slideshow": {
     "slide_type": "slide"
    }
   },
   "source": [
    "# Beispiele\n",
    "- Allgemein Python\n",
    "- Funktionen Speziell für PC\n",
    "- Beispiel: Bestimmung des Extinktionskoeffi"
   ]
  }
 ],
 "metadata": {
  "celltoolbar": "Slideshow",
  "kernelspec": {
   "display_name": "Python 3",
   "language": "python",
   "name": "python3"
  },
  "language_info": {
   "codemirror_mode": {
    "name": "ipython",
    "version": 3
   },
   "file_extension": ".py",
   "mimetype": "text/x-python",
   "name": "python",
   "nbconvert_exporter": "python",
   "pygments_lexer": "ipython3",
   "version": "3.6.4"
  }
 },
 "nbformat": 4,
 "nbformat_minor": 2
}
