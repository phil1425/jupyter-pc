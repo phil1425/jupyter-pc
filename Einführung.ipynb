{
 "cells": [
  {
   "cell_type": "markdown",
   "metadata": {
    "slideshow": {
     "slide_type": "slide"
    }
   },
   "source": [
    "# Protokolle schreiben mit Python3 Jupyter\n"
   ]
  },
  {
   "cell_type": "markdown",
   "metadata": {
    "slideshow": {
     "slide_type": "subslide"
    }
   },
   "source": [
    "- Workflow\n",
    "- "
   ]
  },
  {
   "cell_type": "markdown",
   "metadata": {
    "slideshow": {
     "slide_type": "slide"
    }
   },
   "source": [
    "# Workflow\n",
    "***\n",
    "**vorlage.tex** + **code.py** --Jinja2--> **output.tex** --LaTeX--> **PDF**\n",
    "***\n",
    "- **Vorlage**: TeX-Datei mit Platzhaltern  \n",
    "`Das Ergebnis ist \\VAR{ result } \\si{\\volt}\\\\`   \n",
    "- **Code**: Python-Datei mit Messwerten und Berechnung  \n",
    "`result = 5`   \n",
    "- **Output**: TeX-Datei mit eingesetzten Werten, kann von LaTeX normal verarbeitet werden  \n",
    "`Das Ergebnis ist 5 \\si{\\volt}\\\\`   "
   ]
  },
  {
   "cell_type": "markdown",
   "metadata": {
    "slideshow": {
     "slide_type": "slide"
    }
   },
   "source": [
    "# Python Code"
   ]
  },
  {
   "cell_type": "code",
   "execution_count": 7,
   "metadata": {
    "slideshow": {
     "slide_type": "subslide"
    }
   },
   "outputs": [
    {
     "name": "stdout",
     "output_type": "stream",
     "text": [
      "m: 0.97+/-0.10\n",
      "b: 0.13+/-0.25\n"
     ]
    },
    {
     "data": {
      "image/png": "[encoded data removed]",
      "text/plain": [
       "<matplotlib.figure.Figure at 0x109a95438>"
      ]
     },
     "metadata": {},
     "output_type": "display_data"
    }
   ],
   "source": [
    "from jupyterpc import *\n",
    "import matplotlib.pyplot as plt\n",
    "\n",
    "data_x = [0, 1, 2, 3, 4]\n",
    "data_y = [0, 1.1, 2.5, 2.7, 4]\n",
    "\n",
    "sigma_x = 0.1\n",
    "sigma_y = 0.2\n",
    "\n",
    "m, b = fit(data_x, data_y, sigma_x, sigma_y)\n",
    "print('m:', m)\n",
    "print('b:', b)\n",
    "\n",
    "plt.figure()\n",
    "plt.errorbar(data_x, data_y, xerr=sigma_x, yerr=sigma_y, fmt=' ')\n",
    "plt.plot(data_x, [m.n*x+b.n for x in data_x])\n",
    "plt.show()"
   ]
  },
  {
   "cell_type": "markdown",
   "metadata": {},
   "source": []
  },
  {
   "cell_type": "code",
   "execution_count": null,
   "metadata": {},
   "outputs": [],
   "source": []
  }
 ],
 "metadata": {
  "celltoolbar": "Slideshow",
  "kernelspec": {
   "display_name": "Python 3",
   "language": "python",
   "name": "python3"
  },
  "language_info": {
   "codemirror_mode": {
    "name": "ipython",
    "version": 3
   },
   "file_extension": ".py",
   "mimetype": "text/x-python",
   "name": "python",
   "nbconvert_exporter": "python",
   "pygments_lexer": "ipython3",
   "version": "3.6.4"
  }
 },
 "nbformat": 4,
 "nbformat_minor": 2
}
