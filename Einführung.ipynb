{
 "cells": [
  {
   "cell_type": "markdown",
   "metadata": {
    "slideshow": {
     "slide_type": "slide"
    }
   },
   "source": [
    "# Protokolle schreiben mit Python3 Jupyter\n"
   ]
  },
  {
   "cell_type": "markdown",
   "metadata": {
    "slideshow": {
     "slide_type": "subslide"
    }
   },
   "source": [
    "- Workflow\n",
    "- Beispiel\n",
    "- Python"
   ]
  },
  {
   "cell_type": "markdown",
   "metadata": {
    "slideshow": {
     "slide_type": "slide"
    }
   },
   "source": [
    "# Workflow\n",
    "***\n",
    "**vorlage.tex** + **code.py** --Jinja2--> **output.tex** --LaTeX--> **PDF**\n",
    "***\n",
    "- **Vorlage**: TeX-Datei mit Platzhaltern  \n",
    "`Das Ergebnis ist \\VAR{ result } \\si{\\volt}\\\\`   \n",
    "- **Code**: Python-Datei mit Messwerten und Berechnung  \n",
    "`result = 5`   \n",
    "- **Output**: TeX-Datei mit eingesetzten Werten, kann von LaTeX normal verarbeitet werden  \n",
    "`Das Ergebnis ist 5 \\si{\\volt}\\\\`   "
   ]
  },
  {
   "cell_type": "markdown",
   "metadata": {
    "slideshow": {
     "slide_type": "slide"
    }
   },
   "source": [
    "# Python Code\n",
    "***\n",
    "```python\n",
    "from jupyterpc import *\n",
    "import matplotlib.pyplot as plt\n",
    "\n",
    "data_x = [0, 1, 2, 3, 4]\n",
    "data_y = [0, 1.1, 2.5, 2.7, 4]\n",
    "\n",
    "sigma_x = 0.1\n",
    "sigma_y = 0.2\n",
    "\n",
    "m, b = fit(data_x, data_y, sigma_x, sigma_y)\n",
    "print('m:', sci(m))\n",
    "print('b:', sci(b))\n",
    "print(table('bestimmung von m', {'x':data_x, 'y':data_y}))\n",
    "\n",
    "plt.figure()\n",
    "plt.errorbar(data_x, data_y, xerr=sigma_x, yerr=sigma_y, fmt=' ')\n",
    "plt.plot(data_x, [m.n*x+b.n for x in data_x])\n",
    "plt.savefig('graph1.pdf')\n",
    "plt.show()\n",
    "```"
   ]
  },
  {
   "cell_type": "markdown",
   "metadata": {
    "slideshow": {
     "slide_type": "subslide"
    }
   },
   "source": [
    "# LaTeX Template\n",
    "***\n",
    "```\n",
    "Trägt man x gegen y auf, dann entspricht die Steigung der Ausgleichsgeraden m:\n",
    "    \n",
    "\\VAR{table('bestimmung von m', {'x':data_x, 'y':data_y})}\n",
    "\n",
    "\\begin{equation}\n",
    "    \\frac{dx}{dy} = m\n",
    "\\end{equiation}\n",
    "\\includegraphics{graph1.pdf}\n",
    "\\begin{align}\n",
    "\n",
    "    m &= \\VAR{sci(m)}\\\\\n",
    "    b &= \\VAR{sci(b)}\\\\\n",
    "    \n",
    "\\end{align`\n",
    "```"
   ]
  },
  {
   "cell_type": "markdown",
   "metadata": {
    "slideshow": {
     "slide_type": "subslide"
    }
   },
   "source": [
    "# LaTeX Output\n",
    "***\n",
    "```\n",
    "Trägt man x gegen y auf, dann entspricht die Steigung der Ausgleichsgeraden m:\n",
    "\n",
    "\\begin{table}\n",
    "    \\caption{bestimmung von m}\n",
    "    \\centering\n",
    "    \\begin{tabular}{l|l}\n",
    "        x & y \\\\\n",
    "        $0.0$ & $0.0$ \\\\\n",
    "        $1.0$ & $1.1$ \\\\\n",
    "        $2.0$ & $2.5$ \\\\\n",
    "        $3.0$ & $2.7$ \\\\\n",
    "        $4.0$ & $4.0$ \\\\\n",
    "    \\end{tabular}\n",
    "\\end{table}\n",
    "\n",
    "\\begin{equation}\n",
    "    \\frac{dx}{dy} = m\n",
    "\\end{equiation}\n",
    "\\includegraphics{graph1.pdf}\n",
    "\\begin{align}\n",
    "\n",
    "    m &= \\VAR{0.97 \\pm 0.10}\\\\\n",
    "    b &= \\VAR{0.13 \\pm 0.25}\n",
    "    \n",
    "\\end{align}\n",
    "```"
   ]
  },
  {
   "cell_type": "markdown",
   "metadata": {
    "slideshow": {
     "slide_type": "slide"
    }
   },
   "source": [
    "## Nachteile\n",
    "- Installation\n",
    "- Lernkurve\n",
    "- Fehlermeldungen\n",
    "- Programmieren"
   ]
  },
  {
   "cell_type": "markdown",
   "metadata": {
    "slideshow": {
     "slide_type": "slide"
    }
   },
   "source": [
    "## Vorteile\n",
    "- Integration in LaTeX\n",
    "- Automatische Fehlerrechnung\n",
    "- Wiederverwendbarer Code\n",
    "- Schnell\n",
    "- Programmieren"
   ]
  }
 ],
 "metadata": {
  "celltoolbar": "Slideshow",
  "kernelspec": {
   "display_name": "Python 3",
   "language": "python",
   "name": "python3"
  },
  "language_info": {
   "codemirror_mode": {
    "name": "ipython",
    "version": 3
   },
   "file_extension": ".py",
   "mimetype": "text/x-python",
   "name": "python",
   "nbconvert_exporter": "python",
   "pygments_lexer": "ipython3",
   "version": "3.6.4"
  }
 },
 "nbformat": 4,
 "nbformat_minor": 2
}
